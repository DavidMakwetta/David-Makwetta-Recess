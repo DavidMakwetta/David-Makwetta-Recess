{
 "cells": [
  {
   "cell_type": "markdown",
   "id": "78490f91-c7ed-411c-a403-909cb80970c9",
   "metadata": {},
   "source": [
    "28th / May / 2025"
   ]
  },
  {
   "cell_type": "markdown",
   "id": "b9be4c82-8122-4ce0-81ec-2b21f8fcab4b",
   "metadata": {},
   "source": [
    "## MACHINE LEARNING WITH ALISON"
   ]
  },
  {
   "cell_type": "code",
   "execution_count": 3,
   "id": "3f7f1a61-0a15-4092-bdca-723ab8849373",
   "metadata": {},
   "outputs": [
    {
     "data": {
      "text/plain": [
       "\u001b[1;31mSignature:\u001b[0m \u001b[0mprint\u001b[0m\u001b[1;33m(\u001b[0m\u001b[1;33m*\u001b[0m\u001b[0margs\u001b[0m\u001b[1;33m,\u001b[0m \u001b[0msep\u001b[0m\u001b[1;33m=\u001b[0m\u001b[1;34m' '\u001b[0m\u001b[1;33m,\u001b[0m \u001b[0mend\u001b[0m\u001b[1;33m=\u001b[0m\u001b[1;34m'\\n'\u001b[0m\u001b[1;33m,\u001b[0m \u001b[0mfile\u001b[0m\u001b[1;33m=\u001b[0m\u001b[1;32mNone\u001b[0m\u001b[1;33m,\u001b[0m \u001b[0mflush\u001b[0m\u001b[1;33m=\u001b[0m\u001b[1;32mFalse\u001b[0m\u001b[1;33m)\u001b[0m\u001b[1;33m\u001b[0m\u001b[1;33m\u001b[0m\u001b[0m\n",
       "\u001b[1;31mDocstring:\u001b[0m\n",
       "Prints the values to a stream, or to sys.stdout by default.\n",
       "\n",
       "sep\n",
       "  string inserted between values, default a space.\n",
       "end\n",
       "  string appended after the last value, default a newline.\n",
       "file\n",
       "  a file-like object (stream); defaults to the current sys.stdout.\n",
       "flush\n",
       "  whether to forcibly flush the stream.\n",
       "\u001b[1;31mType:\u001b[0m      builtin_function_or_method"
      ]
     },
     "metadata": {},
     "output_type": "display_data"
    }
   ],
   "source": [
    "# ? is used to find out the purpose of a function \n",
    "print?\n"
   ]
  },
  {
   "cell_type": "markdown",
   "id": "bb952ad6-197c-4b1d-8917-66b73afb71bd",
   "metadata": {},
   "source": [
    "1st / June / 2025"
   ]
  },
  {
   "cell_type": "markdown",
   "id": "0f46cfc4-6fda-4233-a9ac-971452b626ba",
   "metadata": {},
   "source": [
    "## TYPE()"
   ]
  },
  {
   "cell_type": "code",
   "execution_count": 2,
   "id": "f319b9d3-dcff-4ea6-b477-2ae87eedda36",
   "metadata": {},
   "outputs": [],
   "source": [
    "#type()  is used to check for the datatype"
   ]
  },
  {
   "cell_type": "code",
   "execution_count": 3,
   "id": "1a605591-14da-4bfd-931a-c09edbc1ce80",
   "metadata": {},
   "outputs": [
    {
     "data": {
      "text/plain": [
       "int"
      ]
     },
     "execution_count": 3,
     "metadata": {},
     "output_type": "execute_result"
    }
   ],
   "source": [
    "type(1)"
   ]
  },
  {
   "cell_type": "markdown",
   "id": "fbb96294-b2e2-4252-949d-091c4f896b3f",
   "metadata": {},
   "source": [
    "## STRINGS"
   ]
  },
  {
   "cell_type": "code",
   "execution_count": 5,
   "id": "1860b8b1-cab6-41ce-8cb8-3a7e8a09104c",
   "metadata": {},
   "outputs": [],
   "source": [
    "name =  \"David\"\n"
   ]
  },
  {
   "cell_type": "markdown",
   "id": "4419f74e-9c9b-4b6e-a10e-6acd44dfa675",
   "metadata": {},
   "source": [
    "len(name)"
   ]
  },
  {
   "cell_type": "code",
   "execution_count": 7,
   "id": "e9f102b3-1d4f-4263-95f1-71747ee5a681",
   "metadata": {},
   "outputs": [
    {
     "data": {
      "text/plain": [
       "'DAVID'"
      ]
     },
     "execution_count": 7,
     "metadata": {},
     "output_type": "execute_result"
    }
   ],
   "source": [
    "name.upper()"
   ]
  },
  {
   "cell_type": "markdown",
   "id": "55d4943c-3890-4c3e-8e62-a63deeb97e60",
   "metadata": {},
   "source": [
    "##  f-string format"
   ]
  },
  {
   "cell_type": "markdown",
   "id": "12f13bd4-4eb2-4f36-8375-91630144a96f",
   "metadata": {},
   "source": [
    " The f-string format in Python (also called formatted string literals) makes it easy to insert variables or expressions inside a string using curly braces {}\n",
    "\n",
    " You write an f-string by putting f before the opening quotation mark of a string. \n",
    " Inside the string, you use {} to include variables or expressions."
   ]
  },
  {
   "cell_type": "code",
   "execution_count": 9,
   "id": "6902864a-913d-4f4f-9ba6-4122aa418f28",
   "metadata": {},
   "outputs": [
    {
     "name": "stdout",
     "output_type": "stream",
     "text": [
      "My name is Alice and I am 10 years old.\n"
     ]
    }
   ],
   "source": [
    "name = \"Alice\"\n",
    "age = 10\n",
    "\n",
    "# Using f-string\n",
    "message = f\"My name is {name} and I am {age} years old.\"\n",
    "\n",
    "print(message)\n"
   ]
  },
  {
   "cell_type": "markdown",
   "id": "41a759dd-de7c-49f9-a498-a73196084084",
   "metadata": {},
   "source": [
    "##  MODULES"
   ]
  },
  {
   "cell_type": "code",
   "execution_count": null,
   "id": "4abff36a-074d-4bfc-8957-2d12e3aa6582",
   "metadata": {},
   "outputs": [
    {
     "name": "stdout",
     "output_type": "stream",
     "text": [
      "\n",
      "Please wait a moment while I gather a list of all available modules...\n",
      "\n"
     ]
    },
    {
     "name": "stderr",
     "output_type": "stream",
     "text": [
      "Database not initialized by migration_upgrade(). Running it again\n",
      "D:\\ANACONDA\\Lib\\site-packages\\paramiko\\pkey.py:82: CryptographyDeprecationWarning: TripleDES has been moved to cryptography.hazmat.decrepit.ciphers.algorithms.TripleDES and will be removed from this module in 48.0.0.\n",
      "  \"cipher\": algorithms.TripleDES,\n",
      "D:\\ANACONDA\\Lib\\site-packages\\paramiko\\transport.py:219: CryptographyDeprecationWarning: Blowfish has been moved to cryptography.hazmat.decrepit.ciphers.algorithms.Blowfish and will be removed from this module in 45.0.0.\n",
      "  \"class\": algorithms.Blowfish,\n",
      "D:\\ANACONDA\\Lib\\site-packages\\paramiko\\transport.py:243: CryptographyDeprecationWarning: TripleDES has been moved to cryptography.hazmat.decrepit.ciphers.algorithms.TripleDES and will be removed from this module in 48.0.0.\n",
      "  \"class\": algorithms.TripleDES,\n",
      "D:\\ANACONDA\\Lib\\site-packages\\nltk\\twitter\\__init__.py:20: UserWarning: The twython library has not been installed. Some functionality from the twitter package will not be available.\n",
      "  warnings.warn(\n",
      "D:\\ANACONDA\\Lib\\pkgutil.py:78: UserWarning: The numpy.array_api submodule is still experimental. See NEP 47.\n",
      "  __import__(info.name)\n",
      "D:\\ANACONDA\\Lib\\site-packages\\pydantic\\experimental\\__init__.py:7: PydanticExperimentalWarning:\n",
      "\n",
      "This module is experimental, its contents are subject to change and deprecation.\n",
      "\n",
      "No QCoreApplication instance found. Application patches not applied. You have to call load_stylesheet function after instantiation of QApplication to take effect. \n"
     ]
    }
   ],
   "source": [
    "help(\"modules\")"
   ]
  },
  {
   "cell_type": "code",
   "execution_count": null,
   "id": "5f5cc5af-9b1e-4c2e-80cd-e7f3f33e2076",
   "metadata": {},
   "outputs": [],
   "source": []
  },
  {
   "cell_type": "markdown",
   "id": "58cd52a7-8df7-4574-abc4-2db13a5513a1",
   "metadata": {},
   "source": [
    "## LIRARIES FOR DATA SCIENCE PROJECTS "
   ]
  },
  {
   "cell_type": "code",
   "execution_count": null,
   "id": "ff83cbfb-c1b4-4a2c-a779-86dfc9e7565b",
   "metadata": {},
   "outputs": [],
   "source": []
  }
 ],
 "metadata": {
  "kernelspec": {
   "display_name": "Python [conda env:base] *",
   "language": "python",
   "name": "conda-base-py"
  },
  "language_info": {
   "codemirror_mode": {
    "name": "ipython",
    "version": 3
   },
   "file_extension": ".py",
   "mimetype": "text/x-python",
   "name": "python",
   "nbconvert_exporter": "python",
   "pygments_lexer": "ipython3",
   "version": "3.12.7"
  }
 },
 "nbformat": 4,
 "nbformat_minor": 5
}
