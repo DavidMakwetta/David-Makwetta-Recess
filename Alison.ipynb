{
 "cells": [
  {
   "cell_type": "markdown",
   "id": "78490f91-c7ed-411c-a403-909cb80970c9",
   "metadata": {},
   "source": [
    "28th / May / 2025"
   ]
  },
  {
   "cell_type": "markdown",
   "id": "b9be4c82-8122-4ce0-81ec-2b21f8fcab4b",
   "metadata": {},
   "source": [
    "## MACHINE LEARNING WITH ALISON"
   ]
  },
  {
   "cell_type": "code",
   "execution_count": 3,
   "id": "3f7f1a61-0a15-4092-bdca-723ab8849373",
   "metadata": {},
   "outputs": [
    {
     "data": {
      "text/plain": [
       "\u001b[1;31mSignature:\u001b[0m \u001b[0mprint\u001b[0m\u001b[1;33m(\u001b[0m\u001b[1;33m*\u001b[0m\u001b[0margs\u001b[0m\u001b[1;33m,\u001b[0m \u001b[0msep\u001b[0m\u001b[1;33m=\u001b[0m\u001b[1;34m' '\u001b[0m\u001b[1;33m,\u001b[0m \u001b[0mend\u001b[0m\u001b[1;33m=\u001b[0m\u001b[1;34m'\\n'\u001b[0m\u001b[1;33m,\u001b[0m \u001b[0mfile\u001b[0m\u001b[1;33m=\u001b[0m\u001b[1;32mNone\u001b[0m\u001b[1;33m,\u001b[0m \u001b[0mflush\u001b[0m\u001b[1;33m=\u001b[0m\u001b[1;32mFalse\u001b[0m\u001b[1;33m)\u001b[0m\u001b[1;33m\u001b[0m\u001b[1;33m\u001b[0m\u001b[0m\n",
       "\u001b[1;31mDocstring:\u001b[0m\n",
       "Prints the values to a stream, or to sys.stdout by default.\n",
       "\n",
       "sep\n",
       "  string inserted between values, default a space.\n",
       "end\n",
       "  string appended after the last value, default a newline.\n",
       "file\n",
       "  a file-like object (stream); defaults to the current sys.stdout.\n",
       "flush\n",
       "  whether to forcibly flush the stream.\n",
       "\u001b[1;31mType:\u001b[0m      builtin_function_or_method"
      ]
     },
     "metadata": {},
     "output_type": "display_data"
    }
   ],
   "source": [
    "# ? is used to find out the purpose of a function \n",
    "print?\n"
   ]
  },
  {
   "cell_type": "markdown",
   "id": "bb952ad6-197c-4b1d-8917-66b73afb71bd",
   "metadata": {},
   "source": [
    "1st / June / 2025"
   ]
  },
  {
   "cell_type": "markdown",
   "id": "0f46cfc4-6fda-4233-a9ac-971452b626ba",
   "metadata": {},
   "source": [
    "## TYPE()"
   ]
  },
  {
   "cell_type": "code",
   "execution_count": 2,
   "id": "f319b9d3-dcff-4ea6-b477-2ae87eedda36",
   "metadata": {},
   "outputs": [],
   "source": [
    "#type()  is used to check for the datatype"
   ]
  },
  {
   "cell_type": "code",
   "execution_count": 3,
   "id": "1a605591-14da-4bfd-931a-c09edbc1ce80",
   "metadata": {},
   "outputs": [
    {
     "data": {
      "text/plain": [
       "int"
      ]
     },
     "execution_count": 3,
     "metadata": {},
     "output_type": "execute_result"
    }
   ],
   "source": [
    "type(1)"
   ]
  },
  {
   "cell_type": "markdown",
   "id": "fbb96294-b2e2-4252-949d-091c4f896b3f",
   "metadata": {},
   "source": [
    "## STRINGS"
   ]
  },
  {
   "cell_type": "code",
   "execution_count": 5,
   "id": "1860b8b1-cab6-41ce-8cb8-3a7e8a09104c",
   "metadata": {},
   "outputs": [],
   "source": [
    "name =  \"David\"\n"
   ]
  },
  {
   "cell_type": "markdown",
   "id": "4419f74e-9c9b-4b6e-a10e-6acd44dfa675",
   "metadata": {},
   "source": [
    "len(name)"
   ]
  },
  {
   "cell_type": "code",
   "execution_count": 7,
   "id": "e9f102b3-1d4f-4263-95f1-71747ee5a681",
   "metadata": {},
   "outputs": [
    {
     "data": {
      "text/plain": [
       "'DAVID'"
      ]
     },
     "execution_count": 7,
     "metadata": {},
     "output_type": "execute_result"
    }
   ],
   "source": [
    "name.upper()"
   ]
  },
  {
   "cell_type": "markdown",
   "id": "55d4943c-3890-4c3e-8e62-a63deeb97e60",
   "metadata": {},
   "source": [
    "##  f-string format"
   ]
  },
  {
   "cell_type": "markdown",
   "id": "12f13bd4-4eb2-4f36-8375-91630144a96f",
   "metadata": {},
   "source": [
    " The f-string format in Python (also called formatted string literals) makes it easy to insert variables or expressions inside a string using curly braces {}\n",
    "\n",
    " You write an f-string by putting f before the opening quotation mark of a string. \n",
    " Inside the string, you use {} to include variables or expressions."
   ]
  },
  {
   "cell_type": "code",
   "execution_count": 9,
   "id": "6902864a-913d-4f4f-9ba6-4122aa418f28",
   "metadata": {},
   "outputs": [
    {
     "name": "stdout",
     "output_type": "stream",
     "text": [
      "My name is Alice and I am 10 years old.\n"
     ]
    }
   ],
   "source": [
    "name = \"Alice\"\n",
    "age = 10\n",
    "\n",
    "# Using f-string\n",
    "message = f\"My name is {name} and I am {age} years old.\"\n",
    "\n",
    "print(message)\n"
   ]
  },
  {
   "cell_type": "markdown",
   "id": "41a759dd-de7c-49f9-a498-a73196084084",
   "metadata": {},
   "source": [
    "##  MODULES"
   ]
  },
  {
   "cell_type": "code",
   "execution_count": 11,
   "id": "4abff36a-074d-4bfc-8957-2d12e3aa6582",
   "metadata": {},
   "outputs": [
    {
     "name": "stdout",
     "output_type": "stream",
     "text": [
      "\n",
      "Please wait a moment while I gather a list of all available modules...\n",
      "\n"
     ]
    },
    {
     "name": "stderr",
     "output_type": "stream",
     "text": [
      "Database not initialized by migration_upgrade(). Running it again\n",
      "D:\\ANACONDA\\Lib\\site-packages\\paramiko\\pkey.py:82: CryptographyDeprecationWarning: TripleDES has been moved to cryptography.hazmat.decrepit.ciphers.algorithms.TripleDES and will be removed from this module in 48.0.0.\n",
      "  \"cipher\": algorithms.TripleDES,\n",
      "D:\\ANACONDA\\Lib\\site-packages\\paramiko\\transport.py:219: CryptographyDeprecationWarning: Blowfish has been moved to cryptography.hazmat.decrepit.ciphers.algorithms.Blowfish and will be removed from this module in 45.0.0.\n",
      "  \"class\": algorithms.Blowfish,\n",
      "D:\\ANACONDA\\Lib\\site-packages\\paramiko\\transport.py:243: CryptographyDeprecationWarning: TripleDES has been moved to cryptography.hazmat.decrepit.ciphers.algorithms.TripleDES and will be removed from this module in 48.0.0.\n",
      "  \"class\": algorithms.TripleDES,\n",
      "D:\\ANACONDA\\Lib\\site-packages\\nltk\\twitter\\__init__.py:20: UserWarning: The twython library has not been installed. Some functionality from the twitter package will not be available.\n",
      "  warnings.warn(\n",
      "D:\\ANACONDA\\Lib\\pkgutil.py:78: UserWarning: The numpy.array_api submodule is still experimental. See NEP 47.\n",
      "  __import__(info.name)\n",
      "D:\\ANACONDA\\Lib\\site-packages\\pydantic\\experimental\\__init__.py:7: PydanticExperimentalWarning:\n",
      "\n",
      "This module is experimental, its contents are subject to change and deprecation.\n",
      "\n",
      "No QCoreApplication instance found. Application patches not applied. You have to call load_stylesheet function after instantiation of QApplication to take effect. \n"
     ]
    },
    {
     "name": "stdout",
     "output_type": "stream",
     "text": [
      "3204bda914b7f2c6f497__mypyc calendar            mailbox             site\n",
      "Assignment1         certifi             mailcap             six\n",
      "Assignment2_Factorial_of_Five cffi                mako                skimage\n",
      "Assignment3_Error_Handling cgi                 markdown            sklearn\n",
      "Exercise1           cgitb               markdown_it         slugify\n",
      "IPython             chardet             markupsafe          smart_open\n",
      "MRO                 charset_normalizer  marshal             smmap\n",
      "Method_Overiding    chunk               math                smtplib\n",
      "Method_Overloading  click               matplotlib          sndhdr\n",
      "OOP                 cloudpickle         matplotlib_inline   sniffio\n",
      "OpenSSL             cmath               mccabe              snowballstemmer\n",
      "PIL                 cmd                 mdit_py_plugins     socket\n",
      "PyQt5               code                mdurl               socketserver\n",
      "University_System_Display codecs              menuinst            socks\n",
      "__future__          codeop              mimetypes           sockshandler\n",
      "__hello__           collections         mistune             sortedcontainers\n",
      "__phello__          colorama            mkl                 soupsieve\n",
      "_abc                colorcet            mkl_fft             sphinx\n",
      "_aix_support        colorsys            mkl_random          spyder\n",
      "_argon2_cffi_bindings comm                mmap                spyder_kernels\n",
      "_ast                commctrl            mmapfile            sqlalchemy\n",
      "_asyncio            compileall          mmsystem            sqlite3\n",
      "_bisect             concurrent          modulefinder        sre_compile\n",
      "_black_version      conda               more_itertools      sre_constants\n",
      "_blake2             conda_build         mpmath              sre_parse\n",
      "_brotli             conda_content_trust msgpack             ssl\n",
      "_bz2                conda_env           msilib              sspi\n",
      "_cffi_backend       conda_index         msvcrt              sspicon\n",
      "_codecs             conda_libmamba_solver multidict           stack_data\n",
      "_codecs_cn          conda_pack          multipledispatch    stat\n",
      "_codecs_hk          conda_package_handling multiprocessing     statistics\n",
      "_codecs_iso2022     conda_package_streaming mypy                statsmodels\n",
      "_codecs_jp          conda_token         mypy_extensions     streamlit\n",
      "_codecs_kr          configparser        mypyc               string\n",
      "_codecs_tw          constantly          nacl                stringprep\n",
      "_collections        contextlib          navigator_updater   struct\n",
      "_collections_abc    contextvars         nb_conda_kernels    subprocess\n",
      "_compat_pickle      contourpy           nbclient            sunau\n",
      "_compression        cookiecutter        nbconvert           sympy\n",
      "_contextvars        copy                nbformat            symtable\n",
      "_csv                copyreg             nest_asyncio        sys\n",
      "_ctypes             cpuinfo             netbios             sysconfig\n",
      "_ctypes_test        crypt               netrc               tables\n",
      "_datetime           cryptography        networkx            tabnanny\n",
      "_decimal            cssselect           nltk                tabulate\n",
      "_distutils_hack     csv                 nntplib             tarfile\n",
      "_elementtree        ctypes              notebook            tblib\n",
      "_functools          curl                notebook_shim       telnetlib\n",
      "_hashlib            curses              nt                  tempfile\n",
      "_heapq              cwp                 ntpath              tenacity\n",
      "_imp                cycler              ntsecuritycon       terminado\n",
      "_io                 cytoolz             nturl2path          test\n",
      "_json               dask                numba               test_pycosat\n",
      "_locale             dask_expr           numbergen           text_unidecode\n",
      "_lsprof             dataclasses         numbers             textdistance\n",
      "_lzma               datashader          numexpr             textwrap\n",
      "_markupbase         datetime            numpy               this\n",
      "_md5                dateutil            numpydoc            threading\n",
      "_msi                dbi                 odbc                threadpoolctl\n",
      "_multibytecodec     dbm                 opcode              three_merge\n",
      "_multiprocessing    dde                 openpyxl            tifffile\n",
      "_nsis               debugpy             operator            time\n",
      "_opcode             decimal             optparse            timeit\n",
      "_operator           decorator           os                  timer\n",
      "_osx_support        defusedxml          overrides           tinycss2\n",
      "_overlapped         diff_match_patch    packaging           tkinter\n",
      "_pickle             difflib             pandas              tldextract\n",
      "_plotly_future_     dill                pandocfilters       tlz\n",
      "_plotly_utils       dis                 panel               token\n",
      "_py_abc             distributed         param               tokenize\n",
      "_pydatetime         distro              paramiko            toml\n",
      "_pydecimal          docstring_to_markdown parsel              tomli\n",
      "_pyio               doctest             parso               tomlkit\n",
      "_pylong             docutils            partd               tomllib\n",
      "_pytest             dotenv              pathlib             toolz\n",
      "_queue              email               pathspec            tornado\n",
      "_random             encodings           patsy               tqdm\n",
      "_ruamel_yaml        ensurepip           pdb                 trace\n",
      "_sha1               enum                perfmon             traceback\n",
      "_sha2               erfa                pexpect             tracemalloc\n",
      "_sha3               errno               pickle              traitlets\n",
      "_signal             et_xmlfile          pickleshare         truststore\n",
      "_sitebuiltins       executing           pickletools         tty\n",
      "_socket             fastjsonschema      pip                 turtle\n",
      "_sqlite3            faulthandler        pipes               turtledemo\n",
      "_sre                filecmp             pkce                twisted\n",
      "_ssl                fileinput           pkg_resources       typeguard\n",
      "_stat               filelock            pkginfo             typer\n",
      "_statistics         flake8              pkgutil             types\n",
      "_string             flask               platform            typing\n",
      "_strptime           fnmatch             platformdirs        typing_extensions\n",
      "_struct             fontTools           plistlib            tzdata\n",
      "_symtable           fractions           plotly              uc_micro\n",
      "_system_path        frozendict          pluggy              ujson\n",
      "_testbuffer         frozenlist          ply                 unicodedata\n",
      "_testcapi           fsspec              poplib              unicodedata2\n",
      "_testclinic         ftplib              posixpath           unidecode\n",
      "_testconsole        functools           pprint              unittest\n",
      "_testimportmultiple gc                  profile             urllib\n",
      "_testinternalcapi   genericpath         prometheus_client   urllib3\n",
      "_testmultiphase     gensim              prompt_toolkit      uu\n",
      "_testsinglephase    getopt              protego             uuid\n",
      "_thread             getpass             pstats              venv\n",
      "_threading_local    gettext             psutil              w3lib\n",
      "_tkinter            git                 pty                 warnings\n",
      "_tokenize           gitdb               ptyprocess          watchdog\n",
      "_tracemalloc        glob                pure_eval           wave\n",
      "_typing             graphlib            py                  wcwidth\n",
      "_uuid               greenlet            py_compile          weakref\n",
      "_warnings           gzip                pyarrow             webbrowser\n",
      "_weakref            h11                 pyasn1              webencodings\n",
      "_weakrefset         h5py                pyasn1_modules      websocket\n",
      "_win32sysloader     hashlib             pyclbr              werkzeug\n",
      "_winapi             heapdict            pycodestyle         whatthepatch\n",
      "_winxptheme         heapq               pycosat             wheel\n",
      "_wmi                hmac                pycparser           widgetsnbextension\n",
      "_xxinterpchannels   holoviews           pyct                win2kras\n",
      "_xxsubinterpreters  html                pycurl              win32api\n",
      "_yaml               http                pydantic            win32clipboard\n",
      "_zoneinfo           httpcore            pydantic_core       win32com\n",
      "abc                 httpx               pydantic_settings   win32con\n",
      "adodbapi            hvplot              pydeck              win32console\n",
      "aext_assistant      hyperlink           pydispatch          win32cred\n",
      "aext_assistant_server idlelib             pydoc               win32crypt\n",
      "aext_core           idna                pydoc_data          win32cryptcon\n",
      "aext_core_server    imagecodecs         pydocstyle          win32ctypes\n",
      "aext_environments_server imageio             pyexpat             win32event\n",
      "aext_panels         imagesize           pyflakes            win32evtlog\n",
      "aext_panels_server  imaplib             pygments            win32evtlogutil\n",
      "aext_project_filebrowser_server imblearn            pylab               win32file\n",
      "aext_share_notebook imghdr              pylint              win32gui\n",
      "aext_share_notebook_server importlib           pylint_venv         win32gui_struct\n",
      "aext_shared         importlib_metadata  pyls_spyder         win32help\n",
      "aext_toolbox        importlib_resources pylsp               win32inet\n",
      "afxres              incremental         pylsp_black         win32inetcon\n",
      "aifc                inflect             pylsp_jsonrpc       win32job\n",
      "aiobotocore         inflection          pyodbc              win32lz\n",
      "aiohappyeyeballs    iniconfig           pyparsing           win32net\n",
      "aiohttp             inspect             pytest              win32netcon\n",
      "aioitertools        intake              pythoncom           win32pdh\n",
      "aiosignal           intervaltree        pythonjsonlogger    win32pdhquery\n",
      "alabaster           io                  pytoolconfig        win32pdhutil\n",
      "alembic             ipaddress           pytz                win32pipe\n",
      "altair              ipykernel           pyviz_comms         win32print\n",
      "anaconda_anon_usage ipykernel_launcher  pywin               win32process\n",
      "anaconda_auth       ipython_genutils    pywin32_bootstrap   win32profile\n",
      "anaconda_catalogs   ipywidgets          pywin32_testutil    win32ras\n",
      "anaconda_cli_base   isapi               pywintypes          win32rcparser\n",
      "anaconda_cloud_auth isort               pywt                win32security\n",
      "anaconda_navigator  isympy              qdarkstyle          win32service\n",
      "anaconda_project    itemadapter         qstylizer           win32serviceutil\n",
      "annotated_types     itemloaders         qtawesome           win32timezone\n",
      "antigravity         itertools           qtconsole           win32trace\n",
      "anyio               itsdangerous        qtpy                win32traceutil\n",
      "appdirs             jedi                queue               win32transaction\n",
      "archspec            jellyfish           queuelib            win32ts\n",
      "argon2              jinja2              quopri              win32ui\n",
      "argparse            jmespath            random              win32uiole\n",
      "array               joblib              rasutil             win32verstamp\n",
      "arrow               json                re                  win32wnet\n",
      "ast                 json5               readchar            win_inet_pton\n",
      "astroid             jsonpatch           referencing         winerror\n",
      "astropy             jsonpointer         regcheck            winioctlcon\n",
      "astropy_iers_data   jsonschema          regex               winnt\n",
      "asttokens           jsonschema_specifications regutil             winperf\n",
      "async_lru           jupyter             repo_cli            winpty\n",
      "asyncio             jupyter_client      reprlib             winreg\n",
      "atexit              jupyter_console     requests            winsound\n",
      "atomicwrites        jupyter_core        requests_file       winxpgui\n",
      "attr                jupyter_events      requests_toolbelt   winxptheme\n",
      "attrs               jupyter_lsp         rfc3339_validator   wrapt\n",
      "audioop             jupyter_server      rfc3986_validator   wsgiref\n",
      "autocommand         jupyter_server_terminals rich                xarray\n",
      "automat             jupyterlab          rlcompleter         xdrlib\n",
      "autopep8            jupyterlab_plotly   rope                xlwings\n",
      "babel               jupyterlab_pygments rpds                xlwingsjs\n",
      "backports           jupyterlab_server   rtree               xml\n",
      "base64              jupyterlab_widgets  ruamel_yaml         xmlrpc\n",
      "bcrypt              jwt                 runpy               xxlimited\n",
      "bdb                 keyring             s3fs                xxlimited_35\n",
      "binaryornot         keyword             sched               xxsubtype\n",
      "binascii            kiwisolver          scipy               xyzservices\n",
      "binstar_client      lazy_loader         scrapy              yaml\n",
      "bisect              lazy_object_proxy   seaborn             yapf\n",
      "black               lckr_jupyterlab_variableinspector secrets             yapf_third_party\n",
      "blackd              lib2to3             select              yapftests\n",
      "bleach              libarchive          selectors           yarl\n",
      "blib2to3            libmambapy          semver              zict\n",
      "blinker             lief                send2trash          zipapp\n",
      "bokeh               linecache           sentry_sdk          zipfile\n",
      "boltons             linkify_it          service_identity    zipimport\n",
      "botocore            llvmlite            servicemanager      zipp\n",
      "bottleneck          lmdb                setuptools          zlib\n",
      "brotli              locale              shellingham         zmq\n",
      "bs4                 locket              shelve              zoneinfo\n",
      "builtins            logging             shlex               zope\n",
      "bz2                 lxml                shutil              zstandard\n",
      "cProfile            lz4                 signal              \n",
      "cachetools          lzma                sipbuild            \n",
      "\n",
      "Enter any module name to get more help.  Or, type \"modules spam\" to search\n",
      "for modules whose name or summary contain the string \"spam\".\n",
      "\n"
     ]
    }
   ],
   "source": [
    "help(\"modules\")"
   ]
  },
  {
   "cell_type": "code",
   "execution_count": null,
   "id": "5f5cc5af-9b1e-4c2e-80cd-e7f3f33e2076",
   "metadata": {},
   "outputs": [],
   "source": []
  },
  {
   "cell_type": "markdown",
   "id": "58cd52a7-8df7-4574-abc4-2db13a5513a1",
   "metadata": {},
   "source": [
    "## LIRARIES FOR DATA SCIENCE PROJECTS "
   ]
  },
  {
   "cell_type": "code",
   "execution_count": null,
   "id": "ff83cbfb-c1b4-4a2c-a779-86dfc9e7565b",
   "metadata": {},
   "outputs": [],
   "source": []
  }
 ],
 "metadata": {
  "kernelspec": {
   "display_name": "Python [conda env:base] *",
   "language": "python",
   "name": "conda-base-py"
  },
  "language_info": {
   "codemirror_mode": {
    "name": "ipython",
    "version": 3
   },
   "file_extension": ".py",
   "mimetype": "text/x-python",
   "name": "python",
   "nbconvert_exporter": "python",
   "pygments_lexer": "ipython3",
   "version": "3.12.7"
  }
 },
 "nbformat": 4,
 "nbformat_minor": 5
}
