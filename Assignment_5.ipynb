{
 "cells": [
  {
   "cell_type": "markdown",
   "id": "cade23c5-cf22-45f2-859b-7b89eda077e4",
   "metadata": {},
   "source": [
    "## BSSE2301 SOFTWARE ENGINEERING MINI PROJECT 2025"
   ]
  },
  {
   "cell_type": "code",
   "execution_count": 7,
   "id": "a5af7001-ac12-4fd3-96c5-93e3a82f2819",
   "metadata": {},
   "outputs": [],
   "source": [
    "import pandas as pd\n"
   ]
  },
  {
   "cell_type": "code",
   "execution_count": 8,
   "id": "f02ffa9b-37d6-4727-91e3-8c2e45723f54",
   "metadata": {},
   "outputs": [],
   "source": [
    "df = pd.read_csv('climate_action_data.csv ')\n"
   ]
  },
  {
   "cell_type": "markdown",
   "id": "f836f3af-7815-4706-b0f1-cc4cb6e123d7",
   "metadata": {},
   "source": [
    "#### Loading the Data_Set"
   ]
  },
  {
   "cell_type": "code",
   "execution_count": 9,
   "id": "84f1ef20-46c9-41a4-b19d-ecb04c9d93c7",
   "metadata": {},
   "outputs": [
    {
     "name": "stdout",
     "output_type": "stream",
     "text": [
      "    Sensor_ID        Date Soil_Moisture(%) Soil_pH Temperature(C) Humidity(%)  \\\n",
      "0    SEN-1000  2025-01-01            36.22    6.98           21.3        50.4   \n",
      "1    SEN-1001  2025-01-02            76.55    5.03           23.5        34.3   \n",
      "2    SEN-1002  2025-01-03            61.24    6.52           21.9        54.6   \n",
      "3    SEN-1003  2025-01-04            51.91    6.62           24.0        48.7   \n",
      "4    SEN-1004  2025-01-05            20.92    5.98           19.2        70.6   \n",
      "..        ...         ...              ...     ...            ...         ...   \n",
      "908  SEN-1090  2025-04-01            18.37    7.03           21.0        47.1   \n",
      "909  SEN-1201  2025-07-21            15.89     6.4           30.5        33.3   \n",
      "910  SEN-1309  2025-11-06            28.96    5.04           20.5        47.6   \n",
      "911  SEN-1339  2025-12-06            16.85    6.57           19.3        34.5   \n",
      "912  SEN-1050  2025-02-20            77.87    4.73           18.6        46.2   \n",
      "\n",
      "    Crop_Type Fertilizer_Recommended(kg/ha) Irrigation_Recommended(mm)  \\\n",
      "0    Tomatoes                          67.6                       26.6   \n",
      "1       Wheat                         130.4                        8.3   \n",
      "2    Tomatoes                          36.0                       29.4   \n",
      "3       Maize                          85.8                       19.6   \n",
      "4       Wheat                          75.6                       29.9   \n",
      "..        ...                           ...                        ...   \n",
      "908     Maize                          94.2                        8.0   \n",
      "909  Tomatoes                         108.3                       14.5   \n",
      "910  Tomatoes                          81.1                       12.7   \n",
      "911     Beans                          48.5                       12.7   \n",
      "912     Beans                         136.5                       23.1   \n",
      "\n",
      "    Drone_Image_ID  \n",
      "0         IMG-2000  \n",
      "1         IMG-2001  \n",
      "2         IMG-2002  \n",
      "3         IMG-2003  \n",
      "4         IMG-2004  \n",
      "..             ...  \n",
      "908       IMG-2090  \n",
      "909       IMG-2201  \n",
      "910       IMG-2309  \n",
      "911       IMG-2339  \n",
      "912       IMG-2050  \n",
      "\n",
      "[913 rows x 10 columns]\n"
     ]
    }
   ],
   "source": [
    "print(df)   "
   ]
  },
  {
   "cell_type": "markdown",
   "id": "1f7c7939-42ed-4e6b-82ef-abd58b285cbd",
   "metadata": {},
   "source": [
    "#### First Five Rows "
   ]
  },
  {
   "cell_type": "code",
   "execution_count": 10,
   "id": "8518adc4-d3f8-452f-858d-19d43f10175a",
   "metadata": {},
   "outputs": [
    {
     "data": {
      "text/html": [
       "<div>\n",
       "<style scoped>\n",
       "    .dataframe tbody tr th:only-of-type {\n",
       "        vertical-align: middle;\n",
       "    }\n",
       "\n",
       "    .dataframe tbody tr th {\n",
       "        vertical-align: top;\n",
       "    }\n",
       "\n",
       "    .dataframe thead th {\n",
       "        text-align: right;\n",
       "    }\n",
       "</style>\n",
       "<table border=\"1\" class=\"dataframe\">\n",
       "  <thead>\n",
       "    <tr style=\"text-align: right;\">\n",
       "      <th></th>\n",
       "      <th>Sensor_ID</th>\n",
       "      <th>Date</th>\n",
       "      <th>Soil_Moisture(%)</th>\n",
       "      <th>Soil_pH</th>\n",
       "      <th>Temperature(C)</th>\n",
       "      <th>Humidity(%)</th>\n",
       "      <th>Crop_Type</th>\n",
       "      <th>Fertilizer_Recommended(kg/ha)</th>\n",
       "      <th>Irrigation_Recommended(mm)</th>\n",
       "      <th>Drone_Image_ID</th>\n",
       "    </tr>\n",
       "  </thead>\n",
       "  <tbody>\n",
       "    <tr>\n",
       "      <th>0</th>\n",
       "      <td>SEN-1000</td>\n",
       "      <td>2025-01-01</td>\n",
       "      <td>36.22</td>\n",
       "      <td>6.98</td>\n",
       "      <td>21.3</td>\n",
       "      <td>50.4</td>\n",
       "      <td>Tomatoes</td>\n",
       "      <td>67.6</td>\n",
       "      <td>26.6</td>\n",
       "      <td>IMG-2000</td>\n",
       "    </tr>\n",
       "    <tr>\n",
       "      <th>1</th>\n",
       "      <td>SEN-1001</td>\n",
       "      <td>2025-01-02</td>\n",
       "      <td>76.55</td>\n",
       "      <td>5.03</td>\n",
       "      <td>23.5</td>\n",
       "      <td>34.3</td>\n",
       "      <td>Wheat</td>\n",
       "      <td>130.4</td>\n",
       "      <td>8.3</td>\n",
       "      <td>IMG-2001</td>\n",
       "    </tr>\n",
       "    <tr>\n",
       "      <th>2</th>\n",
       "      <td>SEN-1002</td>\n",
       "      <td>2025-01-03</td>\n",
       "      <td>61.24</td>\n",
       "      <td>6.52</td>\n",
       "      <td>21.9</td>\n",
       "      <td>54.6</td>\n",
       "      <td>Tomatoes</td>\n",
       "      <td>36.0</td>\n",
       "      <td>29.4</td>\n",
       "      <td>IMG-2002</td>\n",
       "    </tr>\n",
       "    <tr>\n",
       "      <th>3</th>\n",
       "      <td>SEN-1003</td>\n",
       "      <td>2025-01-04</td>\n",
       "      <td>51.91</td>\n",
       "      <td>6.62</td>\n",
       "      <td>24.0</td>\n",
       "      <td>48.7</td>\n",
       "      <td>Maize</td>\n",
       "      <td>85.8</td>\n",
       "      <td>19.6</td>\n",
       "      <td>IMG-2003</td>\n",
       "    </tr>\n",
       "    <tr>\n",
       "      <th>4</th>\n",
       "      <td>SEN-1004</td>\n",
       "      <td>2025-01-05</td>\n",
       "      <td>20.92</td>\n",
       "      <td>5.98</td>\n",
       "      <td>19.2</td>\n",
       "      <td>70.6</td>\n",
       "      <td>Wheat</td>\n",
       "      <td>75.6</td>\n",
       "      <td>29.9</td>\n",
       "      <td>IMG-2004</td>\n",
       "    </tr>\n",
       "  </tbody>\n",
       "</table>\n",
       "</div>"
      ],
      "text/plain": [
       "  Sensor_ID        Date Soil_Moisture(%) Soil_pH Temperature(C) Humidity(%)  \\\n",
       "0  SEN-1000  2025-01-01            36.22    6.98           21.3        50.4   \n",
       "1  SEN-1001  2025-01-02            76.55    5.03           23.5        34.3   \n",
       "2  SEN-1002  2025-01-03            61.24    6.52           21.9        54.6   \n",
       "3  SEN-1003  2025-01-04            51.91    6.62           24.0        48.7   \n",
       "4  SEN-1004  2025-01-05            20.92    5.98           19.2        70.6   \n",
       "\n",
       "  Crop_Type Fertilizer_Recommended(kg/ha) Irrigation_Recommended(mm)  \\\n",
       "0  Tomatoes                          67.6                       26.6   \n",
       "1     Wheat                         130.4                        8.3   \n",
       "2  Tomatoes                          36.0                       29.4   \n",
       "3     Maize                          85.8                       19.6   \n",
       "4     Wheat                          75.6                       29.9   \n",
       "\n",
       "  Drone_Image_ID  \n",
       "0       IMG-2000  \n",
       "1       IMG-2001  \n",
       "2       IMG-2002  \n",
       "3       IMG-2003  \n",
       "4       IMG-2004  "
      ]
     },
     "execution_count": 10,
     "metadata": {},
     "output_type": "execute_result"
    }
   ],
   "source": [
    "df.head()"
   ]
  },
  {
   "cell_type": "markdown",
   "id": "97d7eb6f-6324-4800-8f57-54a17e48cad3",
   "metadata": {},
   "source": [
    "#### Shape of the data"
   ]
  },
  {
   "cell_type": "code",
   "execution_count": 11,
   "id": "5f160a75-a854-4862-9797-896e77d3cbad",
   "metadata": {},
   "outputs": [
    {
     "data": {
      "text/plain": [
       "(913, 10)"
      ]
     },
     "execution_count": 11,
     "metadata": {},
     "output_type": "execute_result"
    }
   ],
   "source": [
    "df.shape "
   ]
  },
  {
   "cell_type": "markdown",
   "id": "00f833e7-daeb-4b94-af55-6a48fe4aab01",
   "metadata": {},
   "source": [
    "#### Display data types and non-null counts "
   ]
  },
  {
   "cell_type": "code",
   "execution_count": 14,
   "id": "e5eedf84-e16c-45bd-978d-8cda62d38708",
   "metadata": {},
   "outputs": [
    {
     "name": "stdout",
     "output_type": "stream",
     "text": [
      "<class 'pandas.core.frame.DataFrame'>\n",
      "RangeIndex: 913 entries, 0 to 912\n",
      "Data columns (total 10 columns):\n",
      " #   Column                         Non-Null Count  Dtype \n",
      "---  ------                         --------------  ----- \n",
      " 0   Sensor_ID                      913 non-null    object\n",
      " 1   Date                           909 non-null    object\n",
      " 2   Soil_Moisture(%)               913 non-null    object\n",
      " 3   Soil_pH                        913 non-null    object\n",
      " 4   Temperature(C)                 913 non-null    object\n",
      " 5   Humidity(%)                    913 non-null    object\n",
      " 6   Crop_Type                      909 non-null    object\n",
      " 7   Fertilizer_Recommended(kg/ha)  913 non-null    object\n",
      " 8   Irrigation_Recommended(mm)     913 non-null    object\n",
      " 9   Drone_Image_ID                 913 non-null    object\n",
      "dtypes: object(10)\n",
      "memory usage: 71.5+ KB\n"
     ]
    }
   ],
   "source": [
    "df.info()"
   ]
  },
  {
   "cell_type": "markdown",
   "id": "4798e4d4-8460-40b7-851c-68fe424d7c9b",
   "metadata": {},
   "source": [
    "### CHECKING FOR ISSUES "
   ]
  },
  {
   "cell_type": "markdown",
   "id": "e3a9e22d-27d8-4f0f-aaa8-9a97012e7cfb",
   "metadata": {},
   "source": [
    "#### Count missing values in each column"
   ]
  },
  {
   "cell_type": "code",
   "execution_count": 15,
   "id": "896cd8c2-961a-46c3-ae17-2a67af39afe1",
   "metadata": {},
   "outputs": [
    {
     "name": "stdout",
     "output_type": "stream",
     "text": [
      "Sensor_ID                        0\n",
      "Date                             4\n",
      "Soil_Moisture(%)                 0\n",
      "Soil_pH                          0\n",
      "Temperature(C)                   0\n",
      "Humidity(%)                      0\n",
      "Crop_Type                        4\n",
      "Fertilizer_Recommended(kg/ha)    0\n",
      "Irrigation_Recommended(mm)       0\n",
      "Drone_Image_ID                   0\n",
      "dtype: int64\n"
     ]
    }
   ],
   "source": [
    "print(df.isnull().sum())"
   ]
  },
  {
   "cell_type": "markdown",
   "id": "e75cfc0d-1640-4e53-bc59-5e3ebdada8aa",
   "metadata": {},
   "source": [
    "####  Check for 'error' values"
   ]
  },
  {
   "cell_type": "code",
   "execution_count": 16,
   "id": "859266be-8cc9-4859-8968-8df70a0934cb",
   "metadata": {},
   "outputs": [
    {
     "name": "stdout",
     "output_type": "stream",
     "text": [
      "Sensor_ID                        0\n",
      "Date                             0\n",
      "Soil_Moisture(%)                 5\n",
      "Soil_pH                          5\n",
      "Temperature(C)                   5\n",
      "Humidity(%)                      5\n",
      "Crop_Type                        0\n",
      "Fertilizer_Recommended(kg/ha)    5\n",
      "Irrigation_Recommended(mm)       5\n",
      "Drone_Image_ID                   0\n",
      "dtype: int64\n"
     ]
    }
   ],
   "source": [
    "print((df == 'error').sum())"
   ]
  },
  {
   "cell_type": "markdown",
   "id": "8561a7d1-1e7e-45d0-b8c0-929a505b50c9",
   "metadata": {},
   "source": [
    "####  Check for duplicate records\n"
   ]
  },
  {
   "cell_type": "code",
   "execution_count": 17,
   "id": "d2b313fb-ff35-4e09-a27b-a4d96edb5b46",
   "metadata": {},
   "outputs": [
    {
     "name": "stdout",
     "output_type": "stream",
     "text": [
      "111\n"
     ]
    }
   ],
   "source": [
    "print(df.duplicated().sum())"
   ]
  },
  {
   "cell_type": "markdown",
   "id": "583f4964-27e5-4217-aa8f-c6c6c3ed1ea9",
   "metadata": {},
   "source": [
    "### SUMMARY OF ISSUES "
   ]
  },
  {
   "cell_type": "markdown",
   "id": "0b2fc2a5-6721-4f3b-b82c-42e62c5c09c5",
   "metadata": {},
   "source": [
    "#### Erroneous Entries"
   ]
  },
  {
   "cell_type": "markdown",
   "id": "5134d59d-aff7-4925-aecd-902acf944dc8",
   "metadata": {},
   "source": [
    "A total of 5 'error' values were found in key numeric columns, including: Soil_Moisture(%), Soil_pH, Temperature(C), Humidity(%),   Fertilizer_Recommended(kg/ha), Irrigation_Recommended(mm)"
   ]
  },
  {
   "cell_type": "markdown",
   "id": "6d579acc-4e62-45bc-a9f5-b6ca5f0179f9",
   "metadata": {},
   "source": [
    "#### Missing Values"
   ]
  },
  {
   "cell_type": "markdown",
   "id": "ebb9ed5d-9096-4994-bf0c-aba8de9859e9",
   "metadata": {},
   "source": [
    "4 missing values in: Date column  and Crop_Type column"
   ]
  },
  {
   "cell_type": "markdown",
   "id": "c7a34bc1-2a00-4346-a87b-c12b768c0269",
   "metadata": {},
   "source": [
    "####  Incorrect Data Types "
   ]
  },
  {
   "cell_type": "markdown",
   "id": "063055ee-8266-4aee-a471-018e4d0c5d46",
   "metadata": {},
   "source": [
    "All numeric fields were initially stored as strings (object), requiring type conversion"
   ]
  },
  {
   "cell_type": "markdown",
   "id": "56abd73f-dd11-4d4b-8cab-e8f2140853cd",
   "metadata": {},
   "source": [
    "#### Duplicate Records "
   ]
  },
  {
   "cell_type": "markdown",
   "id": "604f99b0-a6b3-4021-a58c-e083925d48f0",
   "metadata": {},
   "source": [
    "111 duplicate rows were detected in the dataset."
   ]
  },
  {
   "cell_type": "markdown",
   "id": "4476943d-f0f0-492e-863c-e2808f192811",
   "metadata": {},
   "source": [
    "### CLEANING THE DATA "
   ]
  },
  {
   "cell_type": "code",
   "execution_count": 20,
   "id": "306cd49e-0878-467f-bfdf-293d39a17860",
   "metadata": {},
   "outputs": [],
   "source": [
    "import numpy as np"
   ]
  },
  {
   "cell_type": "markdown",
   "id": "de310cfd-108a-4c7d-a8f5-6df56bf35f03",
   "metadata": {},
   "source": [
    "####  Replace 'error' with NaN"
   ]
  },
  {
   "cell_type": "code",
   "execution_count": 21,
   "id": "fb914524-e64d-41ef-9276-b8a1abf936ab",
   "metadata": {},
   "outputs": [],
   "source": [
    "df.replace('error', np.nan, inplace=True)"
   ]
  },
  {
   "cell_type": "markdown",
   "id": "50906e33-e99d-4634-baa7-ff20fd230ffb",
   "metadata": {},
   "source": [
    "#### Convert numeric columns to appropriate types"
   ]
  },
  {
   "cell_type": "code",
   "execution_count": 22,
   "id": "a71f2127-1e53-4645-84b9-9ada86098acd",
   "metadata": {},
   "outputs": [],
   "source": [
    "numeric_columns = [\n",
    "    'Soil_Moisture(%)', 'Soil_pH', 'Temperature(C)', 'Humidity(%)',\n",
    "    'Fertilizer_Recommended(kg/ha)', 'Irrigation_Recommended(mm)'\n",
    "]\n",
    "df[numeric_columns] = df[numeric_columns].apply(pd.to_numeric, errors='coerce')"
   ]
  },
  {
   "cell_type": "markdown",
   "id": "a9d872fb-b11b-4c99-8fc7-22303e2560f3",
   "metadata": {},
   "source": [
    "####  Drop duplicate rows"
   ]
  },
  {
   "cell_type": "code",
   "execution_count": 23,
   "id": "1ac8aaea-36ee-49b3-868d-bf22c5869ad0",
   "metadata": {},
   "outputs": [],
   "source": [
    "df.drop_duplicates(inplace=True)"
   ]
  },
  {
   "cell_type": "markdown",
   "id": "a40930b9-490b-40c1-bfb0-a561d2cff92b",
   "metadata": {},
   "source": [
    "####  Handle missing values"
   ]
  },
  {
   "cell_type": "code",
   "execution_count": 24,
   "id": "36d1afc2-611f-485f-8559-e1494a897a68",
   "metadata": {},
   "outputs": [],
   "source": [
    "# Drop rows with missing 'Date' and 'Crop_Type' \n",
    "df.dropna(subset=['Date', 'Crop_Type'], inplace=True)\n",
    "\n",
    "#Fill missing numeric values with column means\n",
    "df[numeric_columns] = df[numeric_columns].fillna(df[numeric_columns].mean())"
   ]
  },
  {
   "cell_type": "markdown",
   "id": "b0dd29da-075c-4152-8ab5-27fcc337fdd0",
   "metadata": {},
   "source": [
    "#### Confirm missing values"
   ]
  },
  {
   "cell_type": "code",
   "execution_count": 26,
   "id": "cb9af270-679d-4bfd-bb82-ed9aec387662",
   "metadata": {},
   "outputs": [
    {
     "name": "stdout",
     "output_type": "stream",
     "text": [
      "Sensor_ID                        0\n",
      "Date                             0\n",
      "Soil_Moisture(%)                 0\n",
      "Soil_pH                          0\n",
      "Temperature(C)                   0\n",
      "Humidity(%)                      0\n",
      "Crop_Type                        0\n",
      "Fertilizer_Recommended(kg/ha)    0\n",
      "Irrigation_Recommended(mm)       0\n",
      "Drone_Image_ID                   0\n",
      "dtype: int64\n"
     ]
    }
   ],
   "source": [
    "print(df.isnull().sum())"
   ]
  },
  {
   "cell_type": "code",
   "execution_count": 28,
   "id": "68a89a17-d3c2-43b8-a379-19577b18bb41",
   "metadata": {},
   "outputs": [
    {
     "name": "stdout",
     "output_type": "stream",
     "text": [
      "Sensor_ID                         object\n",
      "Date                              object\n",
      "Soil_Moisture(%)                 float64\n",
      "Soil_pH                          float64\n",
      "Temperature(C)                   float64\n",
      "Humidity(%)                      float64\n",
      "Crop_Type                         object\n",
      "Fertilizer_Recommended(kg/ha)    float64\n",
      "Irrigation_Recommended(mm)       float64\n",
      "Drone_Image_ID                    object\n",
      "dtype: object\n"
     ]
    }
   ],
   "source": [
    "#Updated Datatypes\n",
    "print(df.dtypes)"
   ]
  },
  {
   "cell_type": "markdown",
   "id": "4a69f47a-45e0-4b18-946a-79828d0aad73",
   "metadata": {},
   "source": [
    "### EXPLORATORY DATA ANALYSIS"
   ]
  },
  {
   "cell_type": "code",
   "execution_count": 29,
   "id": "135fe36e-d835-47ac-b49f-26de515641e4",
   "metadata": {},
   "outputs": [
    {
     "data": {
      "text/html": [
       "<div>\n",
       "<style scoped>\n",
       "    .dataframe tbody tr th:only-of-type {\n",
       "        vertical-align: middle;\n",
       "    }\n",
       "\n",
       "    .dataframe tbody tr th {\n",
       "        vertical-align: top;\n",
       "    }\n",
       "\n",
       "    .dataframe thead th {\n",
       "        text-align: right;\n",
       "    }\n",
       "</style>\n",
       "<table border=\"1\" class=\"dataframe\">\n",
       "  <thead>\n",
       "    <tr style=\"text-align: right;\">\n",
       "      <th></th>\n",
       "      <th>Soil_Moisture(%)</th>\n",
       "      <th>Soil_pH</th>\n",
       "      <th>Temperature(C)</th>\n",
       "      <th>Humidity(%)</th>\n",
       "      <th>Fertilizer_Recommended(kg/ha)</th>\n",
       "      <th>Irrigation_Recommended(mm)</th>\n",
       "    </tr>\n",
       "  </thead>\n",
       "  <tbody>\n",
       "    <tr>\n",
       "      <th>count</th>\n",
       "      <td>794.000000</td>\n",
       "      <td>794.000000</td>\n",
       "      <td>794.000000</td>\n",
       "      <td>794.000000</td>\n",
       "      <td>794.000000</td>\n",
       "      <td>794.000000</td>\n",
       "    </tr>\n",
       "    <tr>\n",
       "      <th>mean</th>\n",
       "      <td>44.774563</td>\n",
       "      <td>6.246946</td>\n",
       "      <td>26.469962</td>\n",
       "      <td>60.084791</td>\n",
       "      <td>87.304816</td>\n",
       "      <td>17.401521</td>\n",
       "    </tr>\n",
       "    <tr>\n",
       "      <th>std</th>\n",
       "      <td>20.439031</td>\n",
       "      <td>1.021199</td>\n",
       "      <td>4.856848</td>\n",
       "      <td>17.411478</td>\n",
       "      <td>34.856073</td>\n",
       "      <td>7.149158</td>\n",
       "    </tr>\n",
       "    <tr>\n",
       "      <th>min</th>\n",
       "      <td>10.350000</td>\n",
       "      <td>4.520000</td>\n",
       "      <td>18.000000</td>\n",
       "      <td>30.000000</td>\n",
       "      <td>30.000000</td>\n",
       "      <td>5.000000</td>\n",
       "    </tr>\n",
       "    <tr>\n",
       "      <th>25%</th>\n",
       "      <td>26.970000</td>\n",
       "      <td>5.330000</td>\n",
       "      <td>22.325000</td>\n",
       "      <td>46.100000</td>\n",
       "      <td>57.350000</td>\n",
       "      <td>11.300000</td>\n",
       "    </tr>\n",
       "    <tr>\n",
       "      <th>50%</th>\n",
       "      <td>45.205000</td>\n",
       "      <td>6.246946</td>\n",
       "      <td>26.600000</td>\n",
       "      <td>59.950000</td>\n",
       "      <td>85.750000</td>\n",
       "      <td>17.401521</td>\n",
       "    </tr>\n",
       "    <tr>\n",
       "      <th>75%</th>\n",
       "      <td>62.642500</td>\n",
       "      <td>7.080000</td>\n",
       "      <td>30.600000</td>\n",
       "      <td>75.275000</td>\n",
       "      <td>117.600000</td>\n",
       "      <td>23.700000</td>\n",
       "    </tr>\n",
       "    <tr>\n",
       "      <th>max</th>\n",
       "      <td>79.980000</td>\n",
       "      <td>8.000000</td>\n",
       "      <td>35.000000</td>\n",
       "      <td>89.900000</td>\n",
       "      <td>149.700000</td>\n",
       "      <td>29.900000</td>\n",
       "    </tr>\n",
       "  </tbody>\n",
       "</table>\n",
       "</div>"
      ],
      "text/plain": [
       "       Soil_Moisture(%)     Soil_pH  Temperature(C)  Humidity(%)  \\\n",
       "count        794.000000  794.000000      794.000000   794.000000   \n",
       "mean          44.774563    6.246946       26.469962    60.084791   \n",
       "std           20.439031    1.021199        4.856848    17.411478   \n",
       "min           10.350000    4.520000       18.000000    30.000000   \n",
       "25%           26.970000    5.330000       22.325000    46.100000   \n",
       "50%           45.205000    6.246946       26.600000    59.950000   \n",
       "75%           62.642500    7.080000       30.600000    75.275000   \n",
       "max           79.980000    8.000000       35.000000    89.900000   \n",
       "\n",
       "       Fertilizer_Recommended(kg/ha)  Irrigation_Recommended(mm)  \n",
       "count                     794.000000                  794.000000  \n",
       "mean                       87.304816                   17.401521  \n",
       "std                        34.856073                    7.149158  \n",
       "min                        30.000000                    5.000000  \n",
       "25%                        57.350000                   11.300000  \n",
       "50%                        85.750000                   17.401521  \n",
       "75%                       117.600000                   23.700000  \n",
       "max                       149.700000                   29.900000  "
      ]
     },
     "execution_count": 29,
     "metadata": {},
     "output_type": "execute_result"
    }
   ],
   "source": [
    "df.describe()"
   ]
  },
  {
   "cell_type": "markdown",
   "id": "187de1ce-f6dc-400f-8400-e7a7ba46f921",
   "metadata": {},
   "source": [
    "### Visualizing the distribution of numeric variables using histograms"
   ]
  },
  {
   "cell_type": "code",
   "execution_count": 31,
   "id": "cf0e9f42-9870-4e96-a28d-d9d88cc3736a",
   "metadata": {},
   "outputs": [
    {
     "data": {
      "image/png": "[encoded data removed]",
      "text/plain": [
       "<Figure size 1500x1000 with 6 Axes>"
      ]
     },
     "metadata": {},
     "output_type": "display_data"
    }
   ],
   "source": [
    "import matplotlib.pyplot as plt\n",
    "\n",
    "# List of numeric columns to plot\n",
    "num_cols = ['Soil_Moisture(%)', 'Soil_pH', 'Temperature(C)', 'Humidity(%)', \n",
    "            'Fertilizer_Recommended(kg/ha)', 'Irrigation_Recommended(mm)']\n",
    "\n",
    "plt.figure(figsize=(15, 10))\n",
    "\n",
    "for i, col in enumerate(num_cols, 1):\n",
    "    plt.subplot(2, 3, i)\n",
    "    plt.hist(df[col], bins=30, color='skyblue', edgecolor='black')\n",
    "    plt.title(f'Distribution of {col}')\n",
    "    plt.xlabel(col)\n",
    "    plt.ylabel('Frequency')\n",
    "\n",
    "plt.tight_layout()\n",
    "plt.show()\n"
   ]
  },
  {
   "cell_type": "raw",
   "id": "abba00da-3fd1-4414-a716-e41e98af2f34",
   "metadata": {},
   "source": []
  },
  {
   "cell_type": "markdown",
   "id": "22fa9f8e-2452-4cd9-93a3-54282d607933",
   "metadata": {},
   "source": [
    "### Correlation Heatmap"
   ]
  },
  {
   "cell_type": "code",
   "execution_count": 38,
   "id": "793eaeb2-8765-434e-9ab9-1558eb7ac06f",
   "metadata": {},
   "outputs": [
    {
     "data": {
      "image/png": "[encoded data removed]",
      "text/plain": [
       "<Figure size 800x600 with 2 Axes>"
      ]
     },
     "metadata": {},
     "output_type": "display_data"
    }
   ],
   "source": [
    "import seaborn as sns\n",
    "import matplotlib.pyplot as plt\n",
    "\n",
    "# Select numeric columns\n",
    "num_cols = ['Soil_Moisture(%)', 'Soil_pH', 'Temperature(C)', 'Humidity(%)', \n",
    "            'Fertilizer_Recommended(kg/ha)', 'Irrigation_Recommended(mm)']\n",
    "\n",
    "# Calculate correlation matrix\n",
    "corr = df[num_cols].corr()\n",
    "\n",
    "# Plot heatmap\n",
    "plt.figure(figsize=(8, 6))\n",
    "sns.heatmap(corr, annot=True, cmap='Oranges', fmt=\".2f\")\n",
    "plt.title('Correlation Heatmap of Numeric Variables')\n",
    "plt.show()\n"
   ]
  },
  {
   "cell_type": "markdown",
   "id": "ab976655-99b5-482f-b0ae-bca20263fff1",
   "metadata": {},
   "source": [
    "#### Identify Variables That Most Influence Fertilizer Recommendations"
   ]
  },
  {
   "cell_type": "code",
   "execution_count": 39,
   "id": "1747f1c9-fe87-4237-984d-c9acae662149",
   "metadata": {},
   "outputs": [
    {
     "name": "stdout",
     "output_type": "stream",
     "text": [
      "Fertilizer_Recommended(kg/ha)    1.000000\n",
      "Soil_pH                          0.082782\n",
      "Humidity(%)                      0.015420\n",
      "Soil_Moisture(%)                -0.002751\n",
      "Temperature(C)                  -0.010626\n",
      "Irrigation_Recommended(mm)      -0.010808\n",
      "Name: Fertilizer_Recommended(kg/ha), dtype: float64\n"
     ]
    }
   ],
   "source": [
    "# Correlation with fertilizer recommendations\n",
    "fert_corr = df[num_cols].corr()['Fertilizer_Recommended(kg/ha)'].sort_values(ascending=False)\n",
    "\n",
    "# Display the correlation values\n",
    "print(fert_corr)\n"
   ]
  },
  {
   "cell_type": "markdown",
   "id": "ace5b79a-7443-4f24-9473-539e1fd910c6",
   "metadata": {},
   "source": [
    "#### Observation & Deduction"
   ]
  },
  {
   "cell_type": "markdown",
   "id": "7f533358-9541-4e2a-991a-6c12eb7aec08",
   "metadata": {},
   "source": [
    "Soil_pH shows the highest positive correlation with fertilizer recommendations.\n",
    "\n",
    "Therefore, the variable that most influences fertilizer recommendations is: Soil_Ph\n",
    "\n"
   ]
  },
  {
   "cell_type": "markdown",
   "id": "14b828fa-37ee-40a1-9b49-a25e169da728",
   "metadata": {},
   "source": [
    "### Determine the crop type with the highest average soil moisture"
   ]
  },
  {
   "cell_type": "code",
   "execution_count": 41,
   "id": "5ad68334-e452-4c44-8ade-78240434dda3",
   "metadata": {},
   "outputs": [
    {
     "name": "stdout",
     "output_type": "stream",
     "text": [
      "Average Soil Moisture by Crop Type:\n",
      "Crop_Type\n",
      "Wheat       47.181654\n",
      "Maize       44.950933\n",
      "Beans       44.335063\n",
      "Tomatoes    44.182919\n",
      "Lettuce     42.929364\n",
      "Name: Soil_Moisture(%), dtype: float64\n",
      "\n",
      " The Crop with highest average soil moisture: Wheat (47.18%)\n"
     ]
    }
   ],
   "source": [
    "# Group by Crop_Type and calculate average Soil_Moisture\n",
    "avg_soil_moisture = df.groupby('Crop_Type')['Soil_Moisture(%)'].mean().sort_values(ascending=False)\n",
    "\n",
    "# Display result\n",
    "print(\"Average Soil Moisture by Crop Type:\")\n",
    "print(avg_soil_moisture)\n",
    "\n",
    "# Identify the crop with the highest average soil moisture\n",
    "top_crop = avg_soil_moisture.idxmax()\n",
    "top_moisture = avg_soil_moisture.max()\n",
    "\n",
    "print(f\"\\n The Crop with highest average soil moisture: {top_crop} ({top_moisture:.2f}%)\")\n"
   ]
  },
  {
   "cell_type": "markdown",
   "id": "0bded7f5-ebc2-4c28-b5e6-68bbd2871f91",
   "metadata": {},
   "source": [
    "### Suggest appropriate irrigation adjustments for crops experiencing average temperatures above 30°C.\n",
    "\n"
   ]
  },
  {
   "cell_type": "code",
   "execution_count": 42,
   "id": "b937b013-5ba8-48b6-965c-cf264ece8c84",
   "metadata": {},
   "outputs": [
    {
     "name": "stdout",
     "output_type": "stream",
     "text": [
      "Average Temperature and Irrigation for Crops Above 30°C:\n",
      "           Temperature(C)  Irrigation_Recommended(mm)\n",
      "Crop_Type                                            \n",
      "Lettuce         32.575676                   16.297297\n",
      "Wheat           32.528571                   18.811429\n",
      "Maize           32.430909                   16.625455\n",
      "Tomatoes        32.404348                   18.919565\n",
      "Beans           32.311538                   17.857692\n"
     ]
    }
   ],
   "source": [
    "# Filter crops with temperature above 30°C\n",
    "hot_crops = df[df['Temperature(C)'] > 30]\n",
    "\n",
    "# Group by Crop_Type to get average temperature and irrigation\n",
    "irrigation_adjustments = hot_crops.groupby('Crop_Type')[['Temperature(C)', 'Irrigation_Recommended(mm)']].mean()\n",
    "\n",
    "# Display result\n",
    "print(\"Average Temperature and Irrigation for Crops Above 30°C:\")\n",
    "print(irrigation_adjustments.sort_values(by='Temperature(C)', ascending=False))\n"
   ]
  },
  {
   "cell_type": "markdown",
   "id": "a6d91c7c-88dc-461b-a05b-06bce55e8673",
   "metadata": {},
   "source": [
    "### Suggestions"
   ]
  },
  {
   "cell_type": "markdown",
   "id": "1cf950f6-91cd-41d3-8301-74a838b356a1",
   "metadata": {},
   "source": [
    "Since these crops experience temperatures above 30°C, they may face higher transpiration rates and increased water stress.\n",
    "\n",
    "Therefore, Irrigation amounts should be maintained or slightly increased above average recommended values to ensure crops receive sufficient moisture."
   ]
  },
  {
   "cell_type": "markdown",
   "id": "df6f51c7-1d5d-41ed-8df8-69e7509897a9",
   "metadata": {},
   "source": [
    "## INSIGHTS AND RECOMMENDATIONS"
   ]
  },
  {
   "cell_type": "markdown",
   "id": "68d58f77-2011-4a37-b3a4-b2918ae20d54",
   "metadata": {},
   "source": [
    "Data Cleaning: \n",
    "Removed 111 duplicate records and replaced 'error' entries with NaN, handled of missing values and converting data types.\n",
    "\n",
    "Descriptive Statistics:\n",
    "Average soil moisture across crops is ~44.77%.\n",
    "Soil pH averages around 6.25, suitable for most crops.\n",
    "Average temperature is 26.47°C, with some crops experiencing >30°C.\n",
    "\n",
    "Correlation Findings:\n",
    "Soil pH shows the strongest positive correlation with fertilizer recommendations, suggesting soil acidity/alkalinity influences fertilizer needs.\n",
    "Other factors like humidity, soil moisture, temperature, and irrigation have little direct correlation with fertilizer use.\n",
    "\n",
    "Crop Soil Moisture:\n",
    "Wheat has the highest average soil moisture (~47.18%), indicating it may require more water retention management.\n",
    "\n",
    "Irrigation Recommendations for High Temperature Crops (>30°C):\n",
    "Crops such as Lettuce, Wheat, Maize, Tomatoes, and Beans show average temps >30°C.\n",
    "Irrigation should be maintained or slightly increased to prevent heat stress and maintain crop health.\n",
    "Tomatoes and Wheat have higher irrigation needs (~18.8 mm), indicating priority for water allocation.\n",
    "\n",
    "Remarks\n",
    "Consider soil pH adjustments to optimize fertilizer efficiency."
   ]
  },
  {
   "cell_type": "markdown",
   "id": "53358eeb-e398-4df9-b8e5-0f7c46169e53",
   "metadata": {},
   "source": [
    "### Cleaned_precision_agriculture_data.csv "
   ]
  },
  {
   "cell_type": "code",
   "execution_count": 44,
   "id": "3aae462d-b9df-4dd2-a69e-c791b8eb3e38",
   "metadata": {},
   "outputs": [],
   "source": [
    "df.to_csv('cleaned_precision_agriculture_data.csv', index=False)\n"
   ]
  },
  {
   "cell_type": "code",
   "execution_count": null,
   "id": "054bd975-da34-4668-9183-c4553a067847",
   "metadata": {},
   "outputs": [],
   "source": []
  }
 ],
 "metadata": {
  "kernelspec": {
   "display_name": "Python [conda env:base] *",
   "language": "python",
   "name": "conda-base-py"
  },
  "language_info": {
   "codemirror_mode": {
    "name": "ipython",
    "version": 3
   },
   "file_extension": ".py",
   "mimetype": "text/x-python",
   "name": "python",
   "nbconvert_exporter": "python",
   "pygments_lexer": "ipython3",
   "version": "3.12.7"
  }
 },
 "nbformat": 4,
 "nbformat_minor": 5
}
