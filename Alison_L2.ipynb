{
 "cells": [
  {
   "cell_type": "markdown",
   "id": "03b09472-0d82-4df0-a041-4270273f7e18",
   "metadata": {},
   "source": [
    "## INTRODUCTION TO PANDAS"
   ]
  },
  {
   "cell_type": "markdown",
   "id": "8b609b3b-b559-4bce-a5fd-8a4cab4c1540",
   "metadata": {},
   "source": [
    "### SERIES DATA STRUCTURES"
   ]
  },
  {
   "cell_type": "code",
   "execution_count": 4,
   "id": "3a224546-37e6-4699-ba80-9017af60ee80",
   "metadata": {},
   "outputs": [
    {
     "data": {
      "text/plain": [
       "0    8\n",
       "1    9\n",
       "2    5\n",
       "3    3\n",
       "4    2\n",
       "dtype: int64"
      ]
     },
     "execution_count": 4,
     "metadata": {},
     "output_type": "execute_result"
    }
   ],
   "source": [
    "s1"
   ]
  },
  {
   "cell_type": "code",
   "execution_count": 1,
   "id": "028c8ce2-1e88-490c-bb59-991e2dca686b",
   "metadata": {},
   "outputs": [],
   "source": [
    "import pandas as pd   #Importing pandas "
   ]
  },
  {
   "cell_type": "code",
   "execution_count": 3,
   "id": "8393049d-5c04-4ad3-a0f3-535bf800e20a",
   "metadata": {},
   "outputs": [],
   "source": [
    "s1 = pd.Series([8,9,5,3,2])"
   ]
  },
  {
   "cell_type": "code",
   "execution_count": 5,
   "id": "d9f40784-960f-4fb9-ae06-360777d88796",
   "metadata": {},
   "outputs": [
    {
     "data": {
      "text/plain": [
       "dtype('int64')"
      ]
     },
     "execution_count": 5,
     "metadata": {},
     "output_type": "execute_result"
    }
   ],
   "source": [
    "s1.dtype     # Finding out the data type "
   ]
  },
  {
   "cell_type": "code",
   "execution_count": 6,
   "id": "2ecab416-a8ae-419d-9d9f-2e1d8f9ea42a",
   "metadata": {},
   "outputs": [
    {
     "data": {
      "text/plain": [
       "9"
      ]
     },
     "execution_count": 6,
     "metadata": {},
     "output_type": "execute_result"
    }
   ],
   "source": [
    "s1[1]         # Accessing the Second Item in the Series"
   ]
  },
  {
   "cell_type": "code",
   "execution_count": 7,
   "id": "bb7a8816-14cc-41b9-9e1b-eaaaee145ec3",
   "metadata": {},
   "outputs": [
    {
     "name": "stdout",
     "output_type": "stream",
     "text": [
      "0    18\n",
      "1    19\n",
      "2    15\n",
      "3    13\n",
      "4    12\n",
      "dtype: int64\n"
     ]
    }
   ],
   "source": [
    "print(s1+10)  # Add 10  to each number in the Series "
   ]
  },
  {
   "cell_type": "markdown",
   "id": "c02fe6ed-23db-4ecb-be06-15faea3780f8",
   "metadata": {},
   "source": [
    "#### Adding Two Series "
   ]
  },
  {
   "cell_type": "code",
   "execution_count": 8,
   "id": "121de5a5-210e-4218-ad39-a5c71ad210a6",
   "metadata": {},
   "outputs": [],
   "source": [
    "s2 = pd.Series([1,2,3,4,5])"
   ]
  },
  {
   "cell_type": "code",
   "execution_count": 9,
   "id": "0b5178ff-c8a0-4dae-a41b-25e8628a052e",
   "metadata": {},
   "outputs": [
    {
     "name": "stdout",
     "output_type": "stream",
     "text": [
      "0     9\n",
      "1    11\n",
      "2     8\n",
      "3     7\n",
      "4     7\n",
      "dtype: int64\n"
     ]
    }
   ],
   "source": [
    "print(s1 + s2)"
   ]
  },
  {
   "cell_type": "markdown",
   "id": "3948e90b-413e-40b2-a278-0fbc9b019a30",
   "metadata": {},
   "source": [
    "##  DATA_FRAME DATA STRUCTURE VS SERIES DATA STRUCTURE "
   ]
  },
  {
   "cell_type": "raw",
   "id": "909ed8d4-a2d3-4a61-970c-9b4df214b91a",
   "metadata": {},
   "source": [
    "| Feature      | **Series**                        | **DataFrame**                                      |\n",
    "| ------------ | --------------------------------- | -------------------------------------------------- |\n",
    "| Structure    | 1-dimensional (like a column)     | 2-dimensional (like a table with rows and columns) |\n",
    "| Data Type    | Can hold one data type per Series | Can hold multiple data types across columns        |\n",
    "| Indexed Like | A single column or list           | A table (rows + columns)                           |\n",
    "| Used For     | Storing a single column of data   | Storing entire datasets with multiple columns      |\n"
   ]
  },
  {
   "cell_type": "markdown",
   "id": "eaff62c9-3c81-4f9f-bdea-ef8157a27615",
   "metadata": {},
   "source": [
    "### Series Example"
   ]
  },
  {
   "cell_type": "code",
   "execution_count": 10,
   "id": "288ff780-9201-4629-893d-b0ad2842c4a6",
   "metadata": {},
   "outputs": [
    {
     "name": "stdout",
     "output_type": "stream",
     "text": [
      "0    12\n",
      "1    15\n",
      "2    14\n",
      "dtype: int64\n"
     ]
    }
   ],
   "source": [
    "\n",
    "import pandas as pd\n",
    "\n",
    "# A list of ages\n",
    "ages = pd.Series([12, 15, 14])\n",
    "# This is like one column of data.\n",
    "\n",
    "print(ages)\n"
   ]
  },
  {
   "cell_type": "markdown",
   "id": "a3a401d0-636d-453d-b556-907dadd5bd0c",
   "metadata": {},
   "source": [
    "### DataFrame Example"
   ]
  },
  {
   "cell_type": "code",
   "execution_count": null,
   "id": "2329e44e-870f-4d75-b108-e72c92624917",
   "metadata": {},
   "outputs": [],
   "source": [
    "import pandas as pd\n",
    "\n",
    "# A table of student names and ages\n",
    "data = {\n",
    "    \"Name\": [\"Alice\", \"Bob\", \"Charlie\"],\n",
    "    \"Age\": [12, 15, 14],\n",
    "    \"Sex\": [\"F\",\"M\",\"M\"]\n",
    "}\n",
    "\n",
    "df = pd.DataFrame(data)\n",
    "\n",
    "print(df)\n",
    "#This is like a full table (with multiple columns)."
   ]
  },
  {
   "cell_type": "markdown",
   "id": "f02255b4-ea55-41e2-8f08-433d4cee49f1",
   "metadata": {},
   "source": [
    "### Summary"
   ]
  },
  {
   "cell_type": "raw",
   "id": "6675a9a4-8fc9-45e3-8c53-ca45033164e7",
   "metadata": {},
   "source": [
    "Use Series when you're working with one column.\n",
    "\n",
    "Use DataFrame when you're working with multiple columns or a full table"
   ]
  },
  {
   "cell_type": "code",
   "execution_count": 16,
   "id": "b2a44502-e3eb-4b84-bf9d-2e5a45f593d4",
   "metadata": {},
   "outputs": [
    {
     "data": {
      "text/plain": [
       "Index(['Name', 'Age', 'Sex'], dtype='object')"
      ]
     },
     "execution_count": 16,
     "metadata": {},
     "output_type": "execute_result"
    }
   ],
   "source": [
    "df.columns"
   ]
  },
  {
   "cell_type": "code",
   "execution_count": 18,
   "id": "3fbd5f73-7a0b-461d-97b0-adb12c14c850",
   "metadata": {},
   "outputs": [
    {
     "data": {
      "text/plain": [
       "<bound method NDFrame.to_excel of       Name  Age Sex\n",
       "0    Alice   12   F\n",
       "1      Bob   15   M\n",
       "2  Charlie   14   M>"
      ]
     },
     "execution_count": 18,
     "metadata": {},
     "output_type": "execute_result"
    }
   ],
   "source": [
    "df.to_excel"
   ]
  },
  {
   "cell_type": "code",
   "execution_count": 22,
   "id": "1c3ac5d1-35cb-45e6-b1ed-71f32e30fe09",
   "metadata": {},
   "outputs": [
    {
     "data": {
      "text/html": [
       "<div>\n",
       "<style scoped>\n",
       "    .dataframe tbody tr th:only-of-type {\n",
       "        vertical-align: middle;\n",
       "    }\n",
       "\n",
       "    .dataframe tbody tr th {\n",
       "        vertical-align: top;\n",
       "    }\n",
       "\n",
       "    .dataframe thead th {\n",
       "        text-align: right;\n",
       "    }\n",
       "</style>\n",
       "<table border=\"1\" class=\"dataframe\">\n",
       "  <thead>\n",
       "    <tr style=\"text-align: right;\">\n",
       "      <th></th>\n",
       "      <th>Name</th>\n",
       "      <th>Age</th>\n",
       "      <th>Sex</th>\n",
       "    </tr>\n",
       "  </thead>\n",
       "  <tbody>\n",
       "    <tr>\n",
       "      <th>0</th>\n",
       "      <td>Alice</td>\n",
       "      <td>12</td>\n",
       "      <td>F</td>\n",
       "    </tr>\n",
       "    <tr>\n",
       "      <th>1</th>\n",
       "      <td>Bob</td>\n",
       "      <td>15</td>\n",
       "      <td>M</td>\n",
       "    </tr>\n",
       "    <tr>\n",
       "      <th>2</th>\n",
       "      <td>Charlie</td>\n",
       "      <td>14</td>\n",
       "      <td>M</td>\n",
       "    </tr>\n",
       "  </tbody>\n",
       "</table>\n",
       "</div>"
      ],
      "text/plain": [
       "      Name  Age Sex\n",
       "0    Alice   12   F\n",
       "1      Bob   15   M\n",
       "2  Charlie   14   M"
      ]
     },
     "execution_count": 22,
     "metadata": {},
     "output_type": "execute_result"
    }
   ],
   "source": [
    "df\n"
   ]
  },
  {
   "cell_type": "markdown",
   "id": "3620f825-abe6-49a1-981d-7b485f4afa39",
   "metadata": {},
   "source": [
    "## DATA SELECTION IN A DATA FRAME "
   ]
  },
  {
   "cell_type": "code",
   "execution_count": null,
   "id": "957efb9a-3f79-47a6-a612-83d692e81f63",
   "metadata": {},
   "outputs": [],
   "source": []
  }
 ],
 "metadata": {
  "kernelspec": {
   "display_name": "Python [conda env:base] *",
   "language": "python",
   "name": "conda-base-py"
  },
  "language_info": {
   "codemirror_mode": {
    "name": "ipython",
    "version": 3
   },
   "file_extension": ".py",
   "mimetype": "text/x-python",
   "name": "python",
   "nbconvert_exporter": "python",
   "pygments_lexer": "ipython3",
   "version": "3.12.7"
  }
 },
 "nbformat": 4,
 "nbformat_minor": 5
}
